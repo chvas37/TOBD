{
 "cells": [
  {
   "cell_type": "markdown",
   "metadata": {},
   "source": [
    "# Numpy"
   ]
  },
  {
   "cell_type": "code",
   "execution_count": 2,
   "metadata": {},
   "outputs": [],
   "source": [
    "import numpy as np"
   ]
  },
  {
   "cell_type": "markdown",
   "metadata": {},
   "source": [
    "Материалы:\n",
    "* Макрушин С.В. \"Лекция 1: Библиотека Numpy\"\n",
    "* https://numpy.org/doc/stable/user/index.html\n",
    "* https://numpy.org/doc/stable/reference/index.html\n",
    "* Уэс Маккини. Python и анализ данных"
   ]
  },
  {
   "cell_type": "markdown",
   "metadata": {},
   "source": [
    "## Задачи для совместного разбора"
   ]
  },
  {
   "cell_type": "markdown",
   "metadata": {},
   "source": [
    "1. Сгенерировать двухмерный массив `arr` размерности (4, 7), состоящий из случайных действительных чисел, равномерно распределенных в диапазоне от 0 до 20. Нормализовать значения массива с помощью преобразования вида  $𝑎𝑥+𝑏$  так, что после нормализации максимальный элемент масcива будет равен 1.0, минимальный 0.0"
   ]
  },
  {
   "cell_type": "code",
   "execution_count": 7,
   "metadata": {},
   "outputs": [
    {
     "data": {
      "text/plain": [
       "array([[11.76805369,  2.23300559, 11.40112127,  9.34647349, 18.51851586,\n",
       "        16.54028172,  2.93831692],\n",
       "       [19.76364475,  1.97982661, 12.60529355,  0.94527122, 16.3445568 ,\n",
       "        19.68312108,  9.71379354],\n",
       "       [14.99602153,  4.18105205, 11.91082811,  9.73413429,  2.81547851,\n",
       "         8.82288593, 16.21480738],\n",
       "       [18.4933617 ,  1.61898624, 14.31405603, 19.93486779, 19.78637337,\n",
       "        14.21055371, 12.51436724]])"
      ]
     },
     "execution_count": 7,
     "metadata": {},
     "output_type": "execute_result"
    }
   ],
   "source": [
    "arr = np.random.uniform(low=0,high=20,size=(4,7))\n",
    "arr2 = np.random.uniform(low=0,high=20,size=(4,7))\n",
    "arr"
   ]
  },
  {
   "cell_type": "code",
   "execution_count": 8,
   "metadata": {},
   "outputs": [
    {
     "data": {
      "text/plain": [
       "array([[111.76805369, 102.23300559, 111.40112127, 109.34647349,\n",
       "        118.51851586, 116.54028172, 102.93831692],\n",
       "       [119.76364475, 101.97982661, 112.60529355, 100.94527122,\n",
       "        116.3445568 , 119.68312108, 109.71379354],\n",
       "       [114.99602153, 104.18105205, 111.91082811, 109.73413429,\n",
       "        102.81547851, 108.82288593, 116.21480738],\n",
       "       [118.4933617 , 101.61898624, 114.31405603, 119.93486779,\n",
       "        119.78637337, 114.21055371, 112.51436724]])"
      ]
     },
     "execution_count": 8,
     "metadata": {},
     "output_type": "execute_result"
    }
   ],
   "source": [
    "arr + 100"
   ]
  },
  {
   "cell_type": "code",
   "execution_count": 9,
   "metadata": {},
   "outputs": [
    {
     "data": {
      "text/plain": [
       "array([[23.06267258,  7.73701635, 21.78811339, 11.07295289, 24.97017844,\n",
       "        31.67851252,  3.87608122],\n",
       "       [27.11847267, 14.48465544, 23.62195154,  1.23092987, 20.90090692,\n",
       "        20.55878031, 20.22614167],\n",
       "       [22.27316889, 10.97419391, 27.49791487, 26.05432988, 10.28199169,\n",
       "        15.47072774, 33.00710301],\n",
       "       [22.15413745, 15.12659851, 21.38307498, 29.07420181, 35.89108994,\n",
       "        27.85825084, 13.90882999]])"
      ]
     },
     "execution_count": 9,
     "metadata": {},
     "output_type": "execute_result"
    }
   ],
   "source": [
    "arr + arr2"
   ]
  },
  {
   "cell_type": "code",
   "execution_count": 12,
   "metadata": {},
   "outputs": [
    {
     "data": {
      "text/plain": [
       "array([[0.5699322 , 0.06781262, 0.55060938, 0.44241078, 0.92541432,\n",
       "        0.8212397 , 0.10495461],\n",
       "       [0.99098332, 0.05448011, 0.61402159, 0.        , 0.81093274,\n",
       "        0.98674291, 0.46175401],\n",
       "       [0.73991832, 0.17039756, 0.57745076, 0.46282516, 0.09848589,\n",
       "        0.41483844, 0.80410008],\n",
       "       [0.92408969, 0.03547811, 0.70400573, 1.        , 0.99218022,\n",
       "        0.69855526, 0.60923338]])"
      ]
     },
     "execution_count": 12,
     "metadata": {},
     "output_type": "execute_result"
    }
   ],
   "source": [
    "(arr - arr.min()) / (arr.max()-arr.min())"
   ]
  },
  {
   "cell_type": "markdown",
   "metadata": {},
   "source": [
    "2. Создать матрицу 8 на 10 из случайных целых (используя модуль `numpy.random`) чисел из диапозона от 0 до 10 и найти в ней строку (ее индекс и вывести саму строку), в которой сумма значений минимальна."
   ]
  },
  {
   "cell_type": "code",
   "execution_count": 22,
   "metadata": {},
   "outputs": [
    {
     "data": {
      "text/plain": [
       "array([[3, 6, 3, 9, 3, 3, 6, 8, 0, 1],\n",
       "       [5, 8, 9, 3, 4, 5, 7, 0, 5, 4],\n",
       "       [6, 6, 2, 4, 4, 0, 2, 1, 8, 0],\n",
       "       [4, 4, 4, 4, 8, 3, 5, 4, 3, 9],\n",
       "       [8, 5, 5, 1, 4, 3, 7, 6, 2, 9],\n",
       "       [6, 1, 3, 1, 8, 6, 5, 4, 0, 3],\n",
       "       [9, 7, 8, 3, 4, 2, 1, 3, 6, 5],\n",
       "       [0, 7, 3, 7, 8, 6, 8, 1, 0, 9]])"
      ]
     },
     "execution_count": 22,
     "metadata": {},
     "output_type": "execute_result"
    }
   ],
   "source": [
    "arr = np.random.randint(low = 0, high = 10, size = (8,10))\n",
    "arr"
   ]
  },
  {
   "cell_type": "code",
   "execution_count": 23,
   "metadata": {},
   "outputs": [
    {
     "data": {
      "text/plain": [
       "5"
      ]
     },
     "execution_count": 23,
     "metadata": {},
     "output_type": "execute_result"
    }
   ],
   "source": [
    "arr[4, 2]"
   ]
  },
  {
   "cell_type": "code",
   "execution_count": 24,
   "metadata": {},
   "outputs": [
    {
     "data": {
      "text/plain": [
       "array([[3, 9, 3],\n",
       "       [9, 3, 4],\n",
       "       [2, 4, 4],\n",
       "       [4, 4, 8]])"
      ]
     },
     "execution_count": 24,
     "metadata": {},
     "output_type": "execute_result"
    }
   ],
   "source": [
    "arr[:4,2:5]"
   ]
  },
  {
   "cell_type": "code",
   "execution_count": 28,
   "metadata": {},
   "outputs": [
    {
     "data": {
      "text/plain": [
       "array([42, 50, 33, 48, 50, 37, 48, 49])"
      ]
     },
     "execution_count": 28,
     "metadata": {},
     "output_type": "execute_result"
    }
   ],
   "source": [
    "sum_by_row = arr.sum(axis = 1)\n",
    "sum_by_row"
   ]
  },
  {
   "cell_type": "code",
   "execution_count": 30,
   "metadata": {},
   "outputs": [
    {
     "data": {
      "text/plain": [
       "(2, array([6, 6, 2, 4, 4, 0, 2, 1, 8, 0]))"
      ]
     },
     "execution_count": 30,
     "metadata": {},
     "output_type": "execute_result"
    }
   ],
   "source": [
    "min_idx = sum_by_row.argmin()\n",
    "min_idx, arr[min_idx]"
   ]
  },
  {
   "cell_type": "markdown",
   "metadata": {},
   "source": [
    "3. Найти евклидово расстояние между двумя одномерными векторами одинаковой размерности."
   ]
  },
  {
   "cell_type": "code",
   "execution_count": 34,
   "metadata": {},
   "outputs": [],
   "source": [
    "x = np.array([1,2,3])\n",
    "y = np.array([1,4,3])"
   ]
  },
  {
   "cell_type": "code",
   "execution_count": 35,
   "metadata": {},
   "outputs": [
    {
     "data": {
      "text/plain": [
       "2.0"
      ]
     },
     "execution_count": 35,
     "metadata": {},
     "output_type": "execute_result"
    }
   ],
   "source": [
    "#(x-y)**2\n",
    "np.sqrt(np.power(x-y,2).sum())"
   ]
  },
  {
   "cell_type": "markdown",
   "metadata": {},
   "source": [
    "4. Решить матричное уравнение `A*X*B=-C` - найти матрицу `X`. Где `A = [[-1, 2, 4], [-3, 1, 2], [-3, 0, 1]]`, `B=[[3, -1], [2, 1]]`, `C=[[7, 21], [11, 8], [8, 4]]`."
   ]
  },
  {
   "cell_type": "code",
   "execution_count": 37,
   "metadata": {},
   "outputs": [],
   "source": [
    "A = np.array([[-1, 2, 4], [-3, 1, 2], [-3, 0, 1]])\n",
    "B = np.array([[3, -1], [2, 1]])\n",
    "C = np.array([[7, 21], [11, 8], [8, 4]])"
   ]
  },
  {
   "cell_type": "code",
   "execution_count": 38,
   "metadata": {},
   "outputs": [
    {
     "data": {
      "text/plain": [
       "array([[ 1.00000000e+00,  5.32907052e-16],\n",
       "       [-2.00000000e+00,  1.00000000e+00],\n",
       "       [ 3.00000000e+00, -4.00000000e+00]])"
      ]
     },
     "execution_count": 38,
     "metadata": {},
     "output_type": "execute_result"
    }
   ],
   "source": [
    "X = np.linalg.inv(A) @ (-C) @ np.linalg.inv(B)\n",
    "X"
   ]
  },
  {
   "cell_type": "code",
   "execution_count": 40,
   "metadata": {},
   "outputs": [
    {
     "data": {
      "text/plain": [
       "5.32907052e-16"
      ]
     },
     "execution_count": 40,
     "metadata": {},
     "output_type": "execute_result"
    }
   ],
   "source": [
    "1*10**(0)\n",
    "5.32907052*10**(-16)"
   ]
  },
  {
   "cell_type": "code",
   "execution_count": 48,
   "metadata": {},
   "outputs": [
    {
     "data": {
      "text/plain": [
       "array([[ -7., -21.],\n",
       "       [-11.,  -8.],\n",
       "       [ -8.,  -4.]])"
      ]
     },
     "execution_count": 48,
     "metadata": {},
     "output_type": "execute_result"
    }
   ],
   "source": [
    "A @ X @ B"
   ]
  },
  {
   "cell_type": "code",
   "execution_count": 47,
   "metadata": {},
   "outputs": [
    {
     "data": {
      "text/plain": [
       "array([[ -7, -21],\n",
       "       [-11,  -8],\n",
       "       [ -8,  -4]])"
      ]
     },
     "execution_count": 47,
     "metadata": {},
     "output_type": "execute_result"
    }
   ],
   "source": [
    "-C"
   ]
  },
  {
   "cell_type": "markdown",
   "metadata": {},
   "source": [
    "## Лабораторная работа №1"
   ]
  },
  {
   "cell_type": "markdown",
   "metadata": {},
   "source": [
    "__При решении данных задач не подразумевается использования циклов или генераторов Python, если в задании не сказано обратного. Решение должно опираться на использования функционала библиотеки `numpy`.__"
   ]
  },
  {
   "cell_type": "markdown",
   "metadata": {},
   "source": [
    "1. Файл `minutes_n_ingredients.csv` содержит информацию об идентификаторе рецепта, времени его выполнения в минутах и количестве необходимых ингредиентов. Считайте данные из этого файла в виде массива `numpy` типа `int32`, используя `np.loadtxt`. Выведите на экран первые 5 строк массива."
   ]
  },
  {
   "cell_type": "code",
   "execution_count": 3,
   "metadata": {},
   "outputs": [
    {
     "data": {
      "text/plain": [
       "array([[127244,     60,     16],\n",
       "       [ 23891,     25,      7],\n",
       "       [ 94746,     10,      6],\n",
       "       [ 67660,      5,      6],\n",
       "       [157911,     60,     14]])"
      ]
     },
     "execution_count": 3,
     "metadata": {},
     "output_type": "execute_result"
    }
   ],
   "source": [
    "import numpy as np\n",
    "minute = np.loadtxt('minutes_n_ingredients.csv',delimiter = ',', dtype='int32', skiprows=1)\n",
    "minute[0:5]"
   ]
  },
  {
   "cell_type": "markdown",
   "metadata": {},
   "source": [
    "2. Вычислите среднее значение, минимум, максимум и медиану по каждому из столбцов, кроме первого."
   ]
  },
  {
   "cell_type": "code",
   "execution_count": 5,
   "metadata": {},
   "outputs": [
    {
     "data": {
      "text/plain": [
       "array([2.16010017e+04, 9.05528000e+00])"
      ]
     },
     "execution_count": 5,
     "metadata": {},
     "output_type": "execute_result"
    }
   ],
   "source": [
    "mean = np.mean(minute, axis = 0)\n",
    "mean[1:]\n"
   ]
  },
  {
   "cell_type": "code",
   "execution_count": 5,
   "metadata": {},
   "outputs": [
    {
     "data": {
      "text/plain": [
       "array([2147483647,         39])"
      ]
     },
     "execution_count": 5,
     "metadata": {},
     "output_type": "execute_result"
    }
   ],
   "source": [
    "mx = np.amax(minute, axis=0)\n",
    "mx[1:]\n"
   ]
  },
  {
   "cell_type": "code",
   "execution_count": 6,
   "metadata": {},
   "outputs": [
    {
     "data": {
      "text/plain": [
       "array([0, 1])"
      ]
     },
     "execution_count": 6,
     "metadata": {},
     "output_type": "execute_result"
    }
   ],
   "source": [
    "mn = np.amin(minute, axis = 0)\n",
    "mn[1:]"
   ]
  },
  {
   "cell_type": "code",
   "execution_count": 4,
   "metadata": {},
   "outputs": [
    {
     "data": {
      "text/plain": [
       "array([40.,  9.])"
      ]
     },
     "execution_count": 4,
     "metadata": {},
     "output_type": "execute_result"
    }
   ],
   "source": [
    "med = np.median(minute, axis = 0)\n",
    "med[1:]"
   ]
  },
  {
   "cell_type": "markdown",
   "metadata": {},
   "source": [
    "3. Выберите случайным образом и выведите информацию о 10 различных рецептах"
   ]
  },
  {
   "cell_type": "code",
   "execution_count": 44,
   "metadata": {},
   "outputs": [
    {
     "data": {
      "text/plain": [
       "array([[156249,     35,     11],\n",
       "       [133709,     20,     12],\n",
       "       [303119,     20,      7],\n",
       "       [179734,     20,     10],\n",
       "       [434427,    255,     12],\n",
       "       [277484,     60,     10],\n",
       "       [ 89326,     40,     10],\n",
       "       [495324,    285,     15],\n",
       "       [121955,     40,     10],\n",
       "       [161387,     75,     11]])"
      ]
     },
     "execution_count": 44,
     "metadata": {},
     "output_type": "execute_result"
    }
   ],
   "source": [
    "r = minute[np.random.randint(len(minute)+1, size = 10)]\n",
    "r"
   ]
  },
  {
   "cell_type": "markdown",
   "metadata": {},
   "source": [
    "4. Создайте версию массива, содержащую информацию только о рецептах, состоящих не более чем из 5 ингредиентов."
   ]
  },
  {
   "cell_type": "code",
   "execution_count": 5,
   "metadata": {},
   "outputs": [
    {
     "data": {
      "text/plain": [
       "array([[446597,     15,      5],\n",
       "       [204134,      5,      3],\n",
       "       [ 25623,      6,      4],\n",
       "       ...,\n",
       "       [ 52088,     60,      5],\n",
       "       [128811,     15,      4],\n",
       "       [370915,      5,      4]])"
      ]
     },
     "execution_count": 5,
     "metadata": {},
     "output_type": "execute_result"
    }
   ],
   "source": [
    "ch = minute[:,2]\n",
    "minute[ch<=5]\n",
    "#rch = np.random.choice(ch, size = 5)\n",
    "#rch"
   ]
  },
  {
   "cell_type": "markdown",
   "metadata": {},
   "source": [
    "5. Выведите процент рецептов, кол-во ингредиентов в которых меньше среднего."
   ]
  },
  {
   "cell_type": "code",
   "execution_count": 6,
   "metadata": {},
   "outputs": [
    {
     "data": {
      "text/plain": [
       "58.802"
      ]
     },
     "execution_count": 6,
     "metadata": {},
     "output_type": "execute_result"
    }
   ],
   "source": [
    "c = minute[:,2]\n",
    "c1 = c[c<np.mean(c)].size\n",
    "p = c1/c.size*100\n",
    "p"
   ]
  },
  {
   "cell_type": "markdown",
   "metadata": {},
   "source": [
    "6. Вычислите значение $q_{0.75}$ третьего квартиля продолжительности выполнения рецепта. Замените в этом столбце значения, большие чем $q_{0.75}$ на величину $q_{0.75}$."
   ]
  },
  {
   "cell_type": "code",
   "execution_count": 7,
   "metadata": {},
   "outputs": [
    {
     "data": {
      "text/plain": [
       "65.0"
      ]
     },
     "execution_count": 7,
     "metadata": {},
     "output_type": "execute_result"
    }
   ],
   "source": [
    "mq = minute[:, 1]\n",
    "q = np.quantile(mq, 0.75, axis = 0)\n",
    "np.minimum(mq, q)"
   ]
  },
  {
   "cell_type": "markdown",
   "metadata": {},
   "source": [
    "7. Посчитайте, для скольких рецептов исходного массива указана продолжительность, равная нулю. Модифицируйте исходный массив, заменив для таких строк значение в данном столбце на 1."
   ]
  },
  {
   "cell_type": "code",
   "execution_count": 12,
   "metadata": {},
   "outputs": [
    {
     "name": "stdout",
     "output_type": "stream",
     "text": [
      "1437\n"
     ]
    },
    {
     "data": {
      "text/plain": [
       "array([ 60,  25,  10, ...,  65,   5, 140])"
      ]
     },
     "execution_count": 12,
     "metadata": {},
     "output_type": "execute_result"
    }
   ],
   "source": [
    "m =  minute[:,1]\n",
    "z = (minute[m == 0]).size\n",
    "print(z)\n",
    "z1 = minute[:, 1]\n",
    "z2 = np.maximum(z1, 1)\n",
    "z2"
   ]
  },
  {
   "cell_type": "markdown",
   "metadata": {},
   "source": [
    "8. Найдите множество возможных значений величины количества ингредиентов и количество вхождений каждого из уникальных значений в набор данных. Используя `numpy.isin`, выясните, какие числа из отрезка [1, 41] отсуствуют в данном множестве и выведите их на экран. "
   ]
  },
  {
   "cell_type": "code",
   "execution_count": 117,
   "metadata": {},
   "outputs": [
    {
     "name": "stdout",
     "output_type": "stream",
     "text": [
      "Ответ 1:\n",
      " [[    1    13]\n",
      " [    2   926]\n",
      " [    3  2895]\n",
      " [    4  5515]\n",
      " [    5  7913]\n",
      " [    6  9376]\n",
      " [    7 10628]\n",
      " [    8 10951]\n",
      " [    9 10585]\n",
      " [   10  9591]\n",
      " [   11  8297]\n",
      " [   12  6605]\n",
      " [   13  4997]\n",
      " [   14  3663]\n",
      " [   15  2595]\n",
      " [   16  1767]\n",
      " [   17  1246]\n",
      " [   18   790]\n",
      " [   19   573]\n",
      " [   20   376]\n",
      " [   21   217]\n",
      " [   22   161]\n",
      " [   23   105]\n",
      " [   24    69]\n",
      " [   25    50]\n",
      " [   26    28]\n",
      " [   27    16]\n",
      " [   28    16]\n",
      " [   29    12]\n",
      " [   30    12]\n",
      " [   31     3]\n",
      " [   32     1]\n",
      " [   33     2]\n",
      " [   34     1]\n",
      " [   35     3]\n",
      " [   37     1]\n",
      " [   39     1]]\n",
      "////////\n",
      "Ответ 2:\n",
      " [40 41]\n"
     ]
    }
   ],
   "source": [
    "u = minute[:,2]\n",
    "uniq, c = np.unique(u, return_counts=True)\n",
    "res = np.column_stack((uniq, c)) \n",
    "print('Ответ 1:\\n',res)\n",
    "a = np.arange(42)\n",
    "a1 = np.delete(a,0)\n",
    "np.isin(uniq, a1)\n",
    "print('////////')\n",
    "print('Ответ 2:\\n',a1[39:])"
   ]
  },
  {
   "cell_type": "markdown",
   "metadata": {},
   "source": [
    "9. Для каждого рецепта посчитайте, сколько в среднем ингредиентов приходится на одну минуту рецепта. Найдите максимальное значение этой величины для всего датасета."
   ]
  },
  {
   "cell_type": "code",
   "execution_count": 127,
   "metadata": {},
   "outputs": [
    {
     "data": {
      "text/plain": [
       "24.0"
      ]
     },
     "execution_count": 127,
     "metadata": {},
     "output_type": "execute_result"
    }
   ],
   "source": [
    "c = minute[:,2]/z2 # z2 из 7 задания\n",
    "np.amax(c)"
   ]
  },
  {
   "cell_type": "markdown",
   "metadata": {},
   "source": [
    "10. Вычислите среднее количество ингредиентов для топ-100 рецептов с наибольшей продолжительностью"
   ]
  },
  {
   "cell_type": "code",
   "execution_count": 169,
   "metadata": {},
   "outputs": [
    {
     "data": {
      "text/plain": [
       "6.61"
      ]
     },
     "execution_count": 169,
     "metadata": {},
     "output_type": "execute_result"
    }
   ],
   "source": [
    "s = minute[:,1:]\n",
    "s1 = s[s[:, 0].argsort()[::-1]]\n",
    "#s1[:100]\n",
    "m = np.mean(s1[:100,1])\n",
    "m    "
   ]
  },
  {
   "cell_type": "markdown",
   "metadata": {},
   "source": [
    "11. Назовем \"простым\" такой рецепт, длительность выполнения которого не больше 20 минут и кол-во ингредиентов в котором не больше 5. Создайте версию датасета с дополнительным столбцом, значениями которого являются 1, если рецепт простой, и 0 в противном случае. Выведите процент \"простых\" рецептов в датасете."
   ]
  },
  {
   "cell_type": "code",
   "execution_count": 50,
   "metadata": {},
   "outputs": [
    {
     "name": "stdout",
     "output_type": "stream",
     "text": [
      "[[127244     60     16      0]\n",
      " [ 23891     25      7      0]\n",
      " [ 94746     10      6      0]\n",
      " ...\n",
      " [498432     65     15      0]\n",
      " [370915      5      4      1]\n",
      " [ 81993    140     14      0]]\n"
     ]
    },
    {
     "data": {
      "text/plain": [
       "9.552"
      ]
     },
     "execution_count": 50,
     "metadata": {},
     "output_type": "execute_result"
    }
   ],
   "source": [
    "one = 1\n",
    "zero = 0\n",
    "stolb = np.where((minute[:,1]<=20) & (minute[:,2]<=5),one,zero).reshape(len(minute[:,1]), 1)\n",
    "minute1 = np.append(minute,stolb,axis=1)\n",
    "print(minute1)\n",
    "el = np.count_nonzero(minute1[:,3], axis=None)\n",
    "el1 = el/len(minute[:])*100\n",
    "el1"
   ]
  },
  {
   "cell_type": "markdown",
   "metadata": {},
   "source": [
    "12. Разделим рецепты на группы по следующему правилу. Назовем рецепты короткими, если их продолжительность составляет менее 10 минут; стандартными, если их продолжительность составляет не менее 10, но менее 20 минут; и длинными, если их продолжительность составляет не менее 20 минут. Создайте трехмерный массив, где нулевая ось отвечает за номер группы (короткий, стандартный или длинный рецепт), первая ось - за сам рецепт и вторая ось - за характеристики рецепта. Выберите максимальное количество рецептов из каждой группы таким образом, чтобы было возможно сформировать трехмерный массив. Выведите форму полученного массива."
   ]
  },
  {
   "cell_type": "code",
   "execution_count": 5,
   "metadata": {},
   "outputs": [
    {
     "data": {
      "text/plain": [
       "array(['high', 'high', 'medium', 'low', 'high', 'high', 'medium',\n",
       "       'medium', 'low', 'high'], dtype='<U11')"
      ]
     },
     "execution_count": 5,
     "metadata": {},
     "output_type": "execute_result"
    }
   ],
   "source": [
    "rules = [minute[:,1] < 10, (minute[:,1] >= 10) & (minute[:,1] < 20), minute[:,1] >= 20]\n",
    "cr = ['low', 'medium','high']\n",
    "S = np.select(rules, cr)\n",
    "S[0:10]\n",
    "\n",
    "#не совсем понял задание с трёхмерным массивом и смысл фразы 'характеристики рецепта'(имеется ввиду минуты и ингредиенты \n",
    "#                                                                                     требуемые для приготовления?)"
   ]
  },
  {
   "cell_type": "markdown",
   "metadata": {},
   "source": [
    "13. Пусть в среднем одна минута работы повара стоит ресторану 5 ед., а средняя стоимость одного ингредиента составляет 10 ед. \n",
    "Создайте вектор-столбец `numpy`, содержащий данную информацию. Посчитайте среднюю стоимость приготовления для каждого из первых 10 рецептов в наборе данных."
   ]
  },
  {
   "cell_type": "code",
   "execution_count": 15,
   "metadata": {},
   "outputs": [
    {
     "name": "stdout",
     "output_type": "stream",
     "text": [
      "[[300 125  50  25 300 200  90  75  35 100]\n",
      " [160  70  60  60 140  70  90  50  90  70]]\n"
     ]
    },
    {
     "data": {
      "text/plain": [
       "array([230. ,  97.5,  55. ,  42.5, 220. , 135. ,  90. ,  62.5,  62.5,\n",
       "        85. ])"
      ]
     },
     "execution_count": 15,
     "metadata": {},
     "output_type": "execute_result"
    }
   ],
   "source": [
    "a = ([5,10])\n",
    "b = minute[:10,1]\n",
    "c = minute[:10,2]\n",
    "b1 = np.dot(b,a[0])\n",
    "c1 =np.dot(c,a[1])\n",
    "x = np.stack((b1,c1))\n",
    "print(x)\n",
    "np.sum(x/2,axis=0)"
   ]
  }
 ],
 "metadata": {
  "kernelspec": {
   "display_name": "Python 3",
   "language": "python",
   "name": "python3"
  },
  "language_info": {
   "codemirror_mode": {
    "name": "ipython",
    "version": 3
   },
   "file_extension": ".py",
   "mimetype": "text/x-python",
   "name": "python",
   "nbconvert_exporter": "python",
   "pygments_lexer": "ipython3",
   "version": "3.8.8"
  }
 },
 "nbformat": 4,
 "nbformat_minor": 4
}
